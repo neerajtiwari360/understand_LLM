{
 "cells": [
  {
   "cell_type": "code",
   "execution_count": null,
   "metadata": {
    "vscode": {
     "languageId": "plaintext"
    }
   },
   "outputs": [],
   "source": [
    "!pip install torch accelerate bitsandbytes datasets transformers peft trl scipy  deepspeed wandb -q"
   ]
  },
  {
   "cell_type": "code",
   "execution_count": null,
   "metadata": {
    "vscode": {
     "languageId": "plaintext"
    }
   },
   "outputs": [],
   "source": [
    "from google.colab import output\n",
    "output.enable_custom_widget_manager()"
   ]
  },
  {
   "cell_type": "code",
   "execution_count": null,
   "metadata": {
    "vscode": {
     "languageId": "plaintext"
    }
   },
   "outputs": [],
   "source": [
    "from transformers import AutoModelForCausalLM, AutoTokenizer\n",
    "import torch\n",
    "\n",
    "# Load model and tokenizer\n",
    "model_id = \"microsoft/Phi-3.5-mini-instruct-onnx\"\n",
    "tokenizer = AutoTokenizer.from_pretrained(model_id)\n",
    "\n",
    "model = AutoModelForCausalLM.from_pretrained(\n",
    "    model_id,\n",
    "    torch_dtype=torch.bfloat16,  # Use float32 for CPU\n",
    "    device_map=\"cpu\",  # Explicitly set to CPU\n",
    "    #device_map=\"cuda\",\n",
    ")\n",
    "\n",
    "# Start interactive loop\n",
    "print(\"Chatbot is ready! Type 'exit' to quit.\\n\")\n",
    "\n",
    "# History of the conversation\n",
    "messages = []\n",
    "\n",
    "while True:\n",
    "    # Get user input\n",
    "    user_input = input(\"You: \")\n",
    "    if user_input.lower() == \"exit\":\n",
    "        print(\"Goodbye!\")\n",
    "        break\n",
    "\n",
    "    # Append the user's message to the conversation history\n",
    "    messages.append({\"role\": \"user\", \"content\": user_input})\n",
    "\n",
    "    # Tokenize input\n",
    "    input_ids = tokenizer.apply_chat_template(\n",
    "        messages,\n",
    "        add_generation_prompt=True,\n",
    "        return_tensors=\"pt\"  # Keep tensors on CPU\n",
    "    )\n",
    "\n",
    "    # Define terminators\n",
    "    terminators = [\n",
    "        tokenizer.eos_token_id,\n",
    "        tokenizer.convert_tokens_to_ids(\"<|eot_id|>\")\n",
    "    ]\n",
    "\n",
    "    # Generate outputs\n",
    "    outputs = model.generate(\n",
    "        input_ids,\n",
    "        max_new_tokens=32,  # Adjust for performance\n",
    "        eos_token_id=terminators,\n",
    "        do_sample=True,\n",
    "        temperature=0.6,\n",
    "        top_p=0.9,\n",
    "    )\n",
    "\n",
    "    # Decode and print the response\n",
    "    response = outputs[0][input_ids.shape[-1]:]\n",
    "    bot_response = tokenizer.decode(response, skip_special_tokens=True)\n",
    "    print(f\"Bot: {bot_response.strip()}\")\n",
    "\n",
    "    # Add the bot's response to the conversation history\n",
    "    messages.append({\"role\": \"assistant\", \"content\": bot_response.strip()})\n"
   ]
  }
 ],
 "metadata": {
  "language_info": {
   "name": "python"
  }
 },
 "nbformat": 4,
 "nbformat_minor": 2
}
